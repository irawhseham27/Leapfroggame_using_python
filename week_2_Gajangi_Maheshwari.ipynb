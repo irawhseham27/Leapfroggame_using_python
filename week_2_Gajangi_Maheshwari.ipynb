{
  "nbformat": 4,
  "nbformat_minor": 0,
  "metadata": {
    "colab": {
      "provenance": []
    },
    "kernelspec": {
      "name": "python3",
      "display_name": "Python 3"
    },
    "language_info": {
      "name": "python"
    }
  },
  "cells": [
    {
      "cell_type": "markdown",
      "source": [
        "Code with positions where Zero is avoided for positions which is User Friendly"
      ],
      "metadata": {
        "id": "LtmTQcbc-tTK"
      }
    },
    {
      "cell_type": "code",
      "source": [
        "from genericpath import isfile\n",
        "print('Intial Postions:-')\n",
        "moves = ['B','B','B','-','G','G','G']\n",
        "print(moves)\n",
        "print(\"[ 1,   2,   3,   4,   5,   6,   7 ]\")\n",
        "while 1 :\n",
        "    print('Press q to quit else (or) r to reset\\nEnter position of piece:')\n",
        "    pos = input()\n",
        "    valid_moves = set('qQrR1234567')\n",
        "    if pos in valid_moves :\n",
        "      if pos.lower() == 'q':\n",
        "        print('You have Quitted the Game\\nYou Lose')\n",
        "        break\n",
        "      elif pos.lower() == 'r':\n",
        "        pos2=0\n",
        "        print(\"Current Positions:-\")\n",
        "        print(\"[ 1,   2,   3,   4,   5,   6,   7 ]\")\n",
        "        moves = ['B','B','B','-','G','G','G']\n",
        "        print(moves)\n",
        "        print('\\n')\n",
        "        continue\n",
        "      else:\n",
        "        pos = int(pos)\n",
        "    else:\n",
        "      print('Invalid Move\\n')\n",
        "      continue\n",
        "    if moves[pos-1] == '-':\n",
        "      print('Invalid Move\\n')\n",
        "      continue\n",
        "    pos2=0\n",
        "    if moves[pos-1] == 'B':\n",
        "      if pos <= 6 and moves[pos] == '-':\n",
        "        pos2 = pos\n",
        "      elif pos + 1 <= 6 and moves[pos + 1] == '-' and moves[pos] == 'B':\n",
        "        pos2 = pos + 1\n",
        "      elif pos + 1 <= 6 and moves[pos + 1] == '-' and moves[pos] == 'G':\n",
        "        pos2 = pos + 1\n",
        "      else:\n",
        "        print('Invalid Move\\n')\n",
        "        continue\n",
        "    elif moves[pos-1] == 'G':\n",
        "      if pos - 2 >= 0 and moves[pos - 2] == '-':\n",
        "        pos2 = pos - 2\n",
        "      elif pos - 3 >= 0 and moves[pos - 3] == '-' and moves[pos - 2] == 'G':\n",
        "        pos2 = pos - 3\n",
        "      elif pos - 3 >= 0 and moves[pos - 3] == '-' and moves[pos - 2] == 'B':\n",
        "        pos2 = pos - 3\n",
        "      else:\n",
        "        print('Invalid Move\\n')\n",
        "        continue\n",
        "\n",
        "    print(\"\\nCurrent Positions:-\")\n",
        "    moves[pos-1], moves[pos2] = moves[pos2], moves[pos-1]\n",
        "    print(\"[ 1,   2,   3,   4,   5,   6,   7 ]\")\n",
        "    print(moves)\n",
        "    print('\\n')\n",
        "\n",
        "    if moves == ['G', 'G', 'G', '-', 'B', 'B', 'B']:\n",
        "      print(\"[ 1,   2,   3,   4,   5,   6,   7 ]\")\n",
        "      print(moves)\n",
        "      print(\"You Win!\")\n",
        "      break\n",
        "\n",
        "\n",
        "\n"
      ],
      "metadata": {
        "id": "mxZxtEhLxGAb"
      },
      "execution_count": null,
      "outputs": []
    }
  ]
}